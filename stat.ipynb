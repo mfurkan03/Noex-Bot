{
 "cells": [
  {
   "cell_type": "code",
   "execution_count": 1,
   "id": "6d8b22c5",
   "metadata": {},
   "outputs": [],
   "source": [
    "import pandas as pd"
   ]
  },
  {
   "cell_type": "code",
   "execution_count": 25,
   "id": "cbb69d0e",
   "metadata": {},
   "outputs": [],
   "source": [
    "df = pd.read_csv(r\"C:\\Users\\alkan\\Downloads\\Başlıksız form.csv\\Başlıksız form.csv\")\n"
   ]
  },
  {
   "cell_type": "code",
   "execution_count": 26,
   "id": "9df55096",
   "metadata": {},
   "outputs": [
    {
     "data": {
      "text/html": [
       "<div>\n",
       "<style scoped>\n",
       "    .dataframe tbody tr th:only-of-type {\n",
       "        vertical-align: middle;\n",
       "    }\n",
       "\n",
       "    .dataframe tbody tr th {\n",
       "        vertical-align: top;\n",
       "    }\n",
       "\n",
       "    .dataframe thead th {\n",
       "        text-align: right;\n",
       "    }\n",
       "</style>\n",
       "<table border=\"1\" class=\"dataframe\">\n",
       "  <thead>\n",
       "    <tr style=\"text-align: right;\">\n",
       "      <th></th>\n",
       "      <th>Robotla olan etkileşiminizi genel olarak nasıl değerlendirirsiniz?  (1 En Kötü - 5 En İyi)</th>\n",
       "      <th>Robotla konuşurken kendinizi ne kadar rahat hissettiniz? (1 En Düşük - 5 En Yüksek).1</th>\n",
       "      <th>Robot size ne kadar ikna edici geldi?  (1 En Düşük - 5 En Yüksek).1</th>\n",
       "      <th>Robotla pazarlık yaparken gerçek bir insanla pazarlık yapıyormuş gibi hissettiniz mi?  (1 En Düşük - 5 En Yüksek).1</th>\n",
       "    </tr>\n",
       "  </thead>\n",
       "  <tbody>\n",
       "    <tr>\n",
       "      <th>0</th>\n",
       "      <td>4</td>\n",
       "      <td>5</td>\n",
       "      <td>5</td>\n",
       "      <td>4</td>\n",
       "    </tr>\n",
       "    <tr>\n",
       "      <th>1</th>\n",
       "      <td>4</td>\n",
       "      <td>5</td>\n",
       "      <td>4</td>\n",
       "      <td>5</td>\n",
       "    </tr>\n",
       "    <tr>\n",
       "      <th>2</th>\n",
       "      <td>5</td>\n",
       "      <td>4</td>\n",
       "      <td>4</td>\n",
       "      <td>5</td>\n",
       "    </tr>\n",
       "    <tr>\n",
       "      <th>3</th>\n",
       "      <td>5</td>\n",
       "      <td>5</td>\n",
       "      <td>4</td>\n",
       "      <td>5</td>\n",
       "    </tr>\n",
       "    <tr>\n",
       "      <th>4</th>\n",
       "      <td>4</td>\n",
       "      <td>5</td>\n",
       "      <td>5</td>\n",
       "      <td>5</td>\n",
       "    </tr>\n",
       "    <tr>\n",
       "      <th>5</th>\n",
       "      <td>5</td>\n",
       "      <td>4</td>\n",
       "      <td>4</td>\n",
       "      <td>4</td>\n",
       "    </tr>\n",
       "    <tr>\n",
       "      <th>6</th>\n",
       "      <td>5</td>\n",
       "      <td>5</td>\n",
       "      <td>5</td>\n",
       "      <td>5</td>\n",
       "    </tr>\n",
       "    <tr>\n",
       "      <th>7</th>\n",
       "      <td>5</td>\n",
       "      <td>4</td>\n",
       "      <td>4</td>\n",
       "      <td>4</td>\n",
       "    </tr>\n",
       "    <tr>\n",
       "      <th>8</th>\n",
       "      <td>5</td>\n",
       "      <td>4</td>\n",
       "      <td>5</td>\n",
       "      <td>5</td>\n",
       "    </tr>\n",
       "    <tr>\n",
       "      <th>9</th>\n",
       "      <td>4</td>\n",
       "      <td>3</td>\n",
       "      <td>4</td>\n",
       "      <td>5</td>\n",
       "    </tr>\n",
       "    <tr>\n",
       "      <th>10</th>\n",
       "      <td>4</td>\n",
       "      <td>3</td>\n",
       "      <td>3</td>\n",
       "      <td>5</td>\n",
       "    </tr>\n",
       "    <tr>\n",
       "      <th>11</th>\n",
       "      <td>4</td>\n",
       "      <td>2</td>\n",
       "      <td>3</td>\n",
       "      <td>3</td>\n",
       "    </tr>\n",
       "    <tr>\n",
       "      <th>12</th>\n",
       "      <td>5</td>\n",
       "      <td>5</td>\n",
       "      <td>5</td>\n",
       "      <td>5</td>\n",
       "    </tr>\n",
       "    <tr>\n",
       "      <th>13</th>\n",
       "      <td>5</td>\n",
       "      <td>5</td>\n",
       "      <td>5</td>\n",
       "      <td>5</td>\n",
       "    </tr>\n",
       "    <tr>\n",
       "      <th>14</th>\n",
       "      <td>5</td>\n",
       "      <td>5</td>\n",
       "      <td>5</td>\n",
       "      <td>5</td>\n",
       "    </tr>\n",
       "    <tr>\n",
       "      <th>15</th>\n",
       "      <td>5</td>\n",
       "      <td>5</td>\n",
       "      <td>5</td>\n",
       "      <td>5</td>\n",
       "    </tr>\n",
       "    <tr>\n",
       "      <th>16</th>\n",
       "      <td>5</td>\n",
       "      <td>5</td>\n",
       "      <td>5</td>\n",
       "      <td>4</td>\n",
       "    </tr>\n",
       "    <tr>\n",
       "      <th>17</th>\n",
       "      <td>2</td>\n",
       "      <td>2</td>\n",
       "      <td>4</td>\n",
       "      <td>4</td>\n",
       "    </tr>\n",
       "    <tr>\n",
       "      <th>18</th>\n",
       "      <td>5</td>\n",
       "      <td>4</td>\n",
       "      <td>3</td>\n",
       "      <td>3</td>\n",
       "    </tr>\n",
       "    <tr>\n",
       "      <th>19</th>\n",
       "      <td>4</td>\n",
       "      <td>3</td>\n",
       "      <td>5</td>\n",
       "      <td>5</td>\n",
       "    </tr>\n",
       "    <tr>\n",
       "      <th>20</th>\n",
       "      <td>4</td>\n",
       "      <td>4</td>\n",
       "      <td>4</td>\n",
       "      <td>5</td>\n",
       "    </tr>\n",
       "    <tr>\n",
       "      <th>21</th>\n",
       "      <td>4</td>\n",
       "      <td>4</td>\n",
       "      <td>4</td>\n",
       "      <td>3</td>\n",
       "    </tr>\n",
       "  </tbody>\n",
       "</table>\n",
       "</div>"
      ],
      "text/plain": [
       "     Robotla olan etkileşiminizi genel olarak nasıl değerlendirirsiniz?  (1 En Kötü - 5 En İyi)  \\\n",
       "0                                                   4                                             \n",
       "1                                                   4                                             \n",
       "2                                                   5                                             \n",
       "3                                                   5                                             \n",
       "4                                                   4                                             \n",
       "5                                                   5                                             \n",
       "6                                                   5                                             \n",
       "7                                                   5                                             \n",
       "8                                                   5                                             \n",
       "9                                                   4                                             \n",
       "10                                                  4                                             \n",
       "11                                                  4                                             \n",
       "12                                                  5                                             \n",
       "13                                                  5                                             \n",
       "14                                                  5                                             \n",
       "15                                                  5                                             \n",
       "16                                                  5                                             \n",
       "17                                                  2                                             \n",
       "18                                                  5                                             \n",
       "19                                                  4                                             \n",
       "20                                                  4                                             \n",
       "21                                                  4                                             \n",
       "\n",
       "     Robotla konuşurken kendinizi ne kadar rahat hissettiniz? (1 En Düşük - 5 En Yüksek).1  \\\n",
       "0                                                   5                                        \n",
       "1                                                   5                                        \n",
       "2                                                   4                                        \n",
       "3                                                   5                                        \n",
       "4                                                   5                                        \n",
       "5                                                   4                                        \n",
       "6                                                   5                                        \n",
       "7                                                   4                                        \n",
       "8                                                   4                                        \n",
       "9                                                   3                                        \n",
       "10                                                  3                                        \n",
       "11                                                  2                                        \n",
       "12                                                  5                                        \n",
       "13                                                  5                                        \n",
       "14                                                  5                                        \n",
       "15                                                  5                                        \n",
       "16                                                  5                                        \n",
       "17                                                  2                                        \n",
       "18                                                  4                                        \n",
       "19                                                  3                                        \n",
       "20                                                  4                                        \n",
       "21                                                  4                                        \n",
       "\n",
       "     Robot size ne kadar ikna edici geldi?  (1 En Düşük - 5 En Yüksek).1  \\\n",
       "0                                                   5                      \n",
       "1                                                   4                      \n",
       "2                                                   4                      \n",
       "3                                                   4                      \n",
       "4                                                   5                      \n",
       "5                                                   4                      \n",
       "6                                                   5                      \n",
       "7                                                   4                      \n",
       "8                                                   5                      \n",
       "9                                                   4                      \n",
       "10                                                  3                      \n",
       "11                                                  3                      \n",
       "12                                                  5                      \n",
       "13                                                  5                      \n",
       "14                                                  5                      \n",
       "15                                                  5                      \n",
       "16                                                  5                      \n",
       "17                                                  4                      \n",
       "18                                                  3                      \n",
       "19                                                  5                      \n",
       "20                                                  4                      \n",
       "21                                                  4                      \n",
       "\n",
       "    Robotla pazarlık yaparken gerçek bir insanla pazarlık yapıyormuş gibi hissettiniz mi?  (1 En Düşük - 5 En Yüksek).1  \n",
       "0                                                   4                                                                    \n",
       "1                                                   5                                                                    \n",
       "2                                                   5                                                                    \n",
       "3                                                   5                                                                    \n",
       "4                                                   5                                                                    \n",
       "5                                                   4                                                                    \n",
       "6                                                   5                                                                    \n",
       "7                                                   4                                                                    \n",
       "8                                                   5                                                                    \n",
       "9                                                   5                                                                    \n",
       "10                                                  5                                                                    \n",
       "11                                                  3                                                                    \n",
       "12                                                  5                                                                    \n",
       "13                                                  5                                                                    \n",
       "14                                                  5                                                                    \n",
       "15                                                  5                                                                    \n",
       "16                                                  4                                                                    \n",
       "17                                                  4                                                                    \n",
       "18                                                  3                                                                    \n",
       "19                                                  5                                                                    \n",
       "20                                                  5                                                                    \n",
       "21                                                  3                                                                    "
      ]
     },
     "execution_count": 26,
     "metadata": {},
     "output_type": "execute_result"
    }
   ],
   "source": [
    "x = df.iloc[:,:5]\n",
    "y = df.iloc[:,5:9]\n",
    "y"
   ]
  },
  {
   "cell_type": "code",
   "execution_count": 56,
   "id": "1d1f3eb4",
   "metadata": {},
   "outputs": [
    {
     "data": {
      "text/plain": [
       "Yüz yüze bir diyalogdaymışsınız gibi hissettiniz mi? (1  Hayır Hissetmedim - 5 Evet Hisettim)    3.954545\n",
       "Robotun yüzünün olması, sizinle olan etkileşimi nasıl etkiledi?  (1 En kötü - 5 En iyi)          4.181818\n",
       "dtype: float64"
      ]
     },
     "execution_count": 56,
     "metadata": {},
     "output_type": "execute_result"
    }
   ],
   "source": [
    "df.iloc[:,9:].mean()"
   ]
  },
  {
   "cell_type": "code",
   "execution_count": 27,
   "id": "9529e47f",
   "metadata": {},
   "outputs": [],
   "source": [
    "from scipy.stats import shapiro"
   ]
  },
  {
   "cell_type": "code",
   "execution_count": 28,
   "id": "73beb76d",
   "metadata": {},
   "outputs": [],
   "source": [
    "x = x.to_numpy()[:,1:]\n",
    "y = y.to_numpy()[:,0:]"
   ]
  },
  {
   "cell_type": "code",
   "execution_count": 29,
   "id": "22c6fc74",
   "metadata": {},
   "outputs": [
    {
     "data": {
      "text/plain": [
       "array([3.0, 3.0, 3.25, 4.75, 3.5, 4.5, 2.25, 2.25, 4.5, 3.75, 3.0, 3.0,\n",
       "       4.0, 5.0, 4.75, 4.75, 2.0, 3.0, 4.25, 4.0, 4.0, 3.25], dtype=object)"
      ]
     },
     "execution_count": 29,
     "metadata": {},
     "output_type": "execute_result"
    }
   ],
   "source": [
    "x_mean = x.mean(axis=1)\n",
    "x_mean"
   ]
  },
  {
   "cell_type": "code",
   "execution_count": 32,
   "id": "c68acd10",
   "metadata": {},
   "outputs": [
    {
     "data": {
      "text/plain": [
       "3.625"
      ]
     },
     "execution_count": 32,
     "metadata": {},
     "output_type": "execute_result"
    }
   ],
   "source": [
    "x_mean.mean()"
   ]
  },
  {
   "cell_type": "code",
   "execution_count": 34,
   "id": "12499098",
   "metadata": {},
   "outputs": [
    {
     "data": {
      "text/plain": [
       "0.8717472006368485"
      ]
     },
     "execution_count": 34,
     "metadata": {},
     "output_type": "execute_result"
    }
   ],
   "source": [
    "x_mean.std()"
   ]
  },
  {
   "cell_type": "code",
   "execution_count": 35,
   "id": "fee8bd3b",
   "metadata": {},
   "outputs": [
    {
     "data": {
      "text/plain": [
       "4.3522727272727275"
      ]
     },
     "execution_count": 35,
     "metadata": {},
     "output_type": "execute_result"
    }
   ],
   "source": [
    "y_mean.mean()"
   ]
  },
  {
   "cell_type": "code",
   "execution_count": 36,
   "id": "8186bf75",
   "metadata": {},
   "outputs": [
    {
     "data": {
      "text/plain": [
       "0.5918916655957008"
      ]
     },
     "execution_count": 36,
     "metadata": {},
     "output_type": "execute_result"
    }
   ],
   "source": [
    "y_mean.std()"
   ]
  },
  {
   "cell_type": "code",
   "execution_count": 30,
   "id": "75eac69f",
   "metadata": {},
   "outputs": [
    {
     "data": {
      "text/plain": [
       "array([4.5 , 4.5 , 4.5 , 4.75, 4.75, 4.25, 5.  , 4.25, 4.75, 4.  , 3.75,\n",
       "       3.  , 5.  , 5.  , 5.  , 5.  , 4.75, 3.  , 3.75, 4.25, 4.25, 3.75])"
      ]
     },
     "execution_count": 30,
     "metadata": {},
     "output_type": "execute_result"
    }
   ],
   "source": [
    "y_mean = y.mean(axis=1)\n",
    "y_mean"
   ]
  },
  {
   "cell_type": "code",
   "execution_count": 31,
   "id": "e5c07a48",
   "metadata": {},
   "outputs": [
    {
     "data": {
      "text/plain": [
       "ShapiroResult(statistic=0.8808813861147738, pvalue=0.012558887403498946)"
      ]
     },
     "execution_count": 31,
     "metadata": {},
     "output_type": "execute_result"
    }
   ],
   "source": [
    "shapiro(x_mean - y_mean)  # Farkların dağılımına bakılır"
   ]
  },
  {
   "cell_type": "code",
   "execution_count": 37,
   "id": "33953db4",
   "metadata": {},
   "outputs": [],
   "source": [
    "from scipy.stats import wilcoxon"
   ]
  },
  {
   "cell_type": "code",
   "execution_count": 43,
   "id": "303dd015",
   "metadata": {},
   "outputs": [
    {
     "data": {
      "text/plain": [
       "WilcoxonResult(statistic=12.5, pvalue=0.0013646203600395654)"
      ]
     },
     "execution_count": 43,
     "metadata": {},
     "output_type": "execute_result"
    }
   ],
   "source": [
    "wilcoxon(x_mean.tolist(), y_mean.tolist())  # İki bağımlı örneklem için Wilcoxon testi"
   ]
  },
  {
   "cell_type": "code",
   "execution_count": 50,
   "id": "8e27e633",
   "metadata": {},
   "outputs": [
    {
     "data": {
      "text/plain": [
       "array([4, 3, 3, 5, 3, 5, 3, 3, 5, 4, 4, 2, 4, 5, 5, 5, 3, 4, 5, 4, 4, 4],\n",
       "      dtype=object)"
      ]
     },
     "execution_count": 50,
     "metadata": {},
     "output_type": "execute_result"
    }
   ],
   "source": [
    "x[:,0]"
   ]
  },
  {
   "cell_type": "code",
   "execution_count": 54,
   "id": "e49a77c6",
   "metadata": {},
   "outputs": [
    {
     "name": "stdout",
     "output_type": "stream",
     "text": [
      "  p_value mean_x (yüzsüz) mean_y (yüzlü)             yorum\n",
      "0  0.0495            3.95           4.45  Anlamlı fark VAR\n",
      "1  0.0596            3.55           4.14  Anlamlı fark YOK\n",
      "2   0.011            3.68           4.32  Anlamlı fark VAR\n",
      "3  0.0008            3.32            4.5  Anlamlı fark VAR\n"
     ]
    }
   ],
   "source": [
    "results = {}\n",
    "\n",
    "for i in range(4):\n",
    "    x_vals = x[:,i]\n",
    "    y_vals = y[:,i]\n",
    "    # Wilcoxon testi\n",
    "    stat, p = wilcoxon(x_vals.tolist(), y_vals.tolist())\n",
    "\n",
    "    results[f\"{i}\"] = {\n",
    "        \"p_value\": round(p, 4),\n",
    "        \"mean_x (yüzsüz)\": round(x_vals.mean(), 2),\n",
    "        \"mean_y (yüzlü)\": round(y_vals.mean(), 2),\n",
    "        \"yorum\": \"Anlamlı fark VAR\" if p < 0.05 else \"Anlamlı fark YOK\"\n",
    "    }\n",
    "\n",
    "# DataFrame olarak göster\n",
    "results_df = pd.DataFrame(results).T\n",
    "print(results_df)"
   ]
  }
 ],
 "metadata": {
  "kernelspec": {
   "display_name": "venv",
   "language": "python",
   "name": "python3"
  },
  "language_info": {
   "codemirror_mode": {
    "name": "ipython",
    "version": 3
   },
   "file_extension": ".py",
   "mimetype": "text/x-python",
   "name": "python",
   "nbconvert_exporter": "python",
   "pygments_lexer": "ipython3",
   "version": "3.11.0"
  }
 },
 "nbformat": 4,
 "nbformat_minor": 5
}
